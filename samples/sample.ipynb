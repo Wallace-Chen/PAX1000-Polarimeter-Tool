{
 "cells": [
  {
   "cell_type": "code",
   "execution_count": null,
   "metadata": {},
   "outputs": [],
   "source": [
    "from PAX1000LTM import *"
   ]
  },
  {
   "cell_type": "code",
   "execution_count": null,
   "metadata": {},
   "outputs": [],
   "source": [
    "# connect to the device\n",
    "'''\n",
    "resource identifier, you can find it by:\n",
    "pyvisa.ResourceManager().list_resources()\n",
    "'''\n",
    "resource = b'USB0::0x1313::0x8031::M00766101::INSTR'\n",
    "\n",
    "polarimeter = Polarimeter(resource, 9, 0.000000532) # measureMode:9, wavelength: 532nm\n",
    "polarimeter.connectDevice()"
   ]
  },
  {
   "cell_type": "code",
   "execution_count": null,
   "metadata": {},
   "outputs": [],
   "source": [
    "# take measurements\n",
    "\n",
    "'''Initialize the class instance'''\n",
    "ltm = PolarimeterLTM(polarimeter.handler, None, 0, 30, 0.05) # set continuous measure time to 30s with 0.05s interval\n",
    "\n",
    "# take one measurement\n",
    "ltm.takeOneMeasurement()\n",
    "# read data from this measurement\n",
    "''' \n",
    "To read data, provide the scan id you want to retrieve.\n",
    "scanID will start from 256, 257, 258,... Each measurement will increase the lastestScanId by 1\n",
    "'''\n",
    "ltm.readFromScanID(ltm.lastestScanID)\n",
    "# remove all scanIDs from the memory of polarimeter if you don't need it anymore\n",
    "ltm.clearMemory()\n",
    "\n",
    "# take continuous measurement, with the period and measure time you provided when initializing the class\n",
    "ltm.measure()\n",
    "# write the data of continuous measurements to a CSV file.\n",
    "ltm.writeData(ltm.lastestScanID, \"sample.csv\")\n",
    "ltm.clearMemory()\n",
    "\n",
    "# close the device\n",
    "polarimeter.closeDevice()"
   ]
  }
 ],
 "metadata": {
  "kernelspec": {
   "display_name": "Python 3",
   "language": "python",
   "name": "python3"
  },
  "language_info": {
   "codemirror_mode": {
    "name": "ipython",
    "version": 3
   },
   "file_extension": ".py",
   "mimetype": "text/x-python",
   "name": "python",
   "nbconvert_exporter": "python",
   "pygments_lexer": "ipython3",
   "version": "3.7.7"
  }
 },
 "nbformat": 4,
 "nbformat_minor": 5
}
