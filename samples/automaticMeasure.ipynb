{
 "cells": [
  {
   "cell_type": "code",
   "execution_count": 1,
   "metadata": {},
   "outputs": [],
   "source": [
    "from PAX1000LTM import *\n",
    "import instrumental\n",
    "from pylablib.devices import Thorlabs"
   ]
  },
  {
   "cell_type": "code",
   "execution_count": 2,
   "metadata": {},
   "outputs": [],
   "source": [
    "# connect to rotating stage\n",
    "Thorlabs.kinesis.BasicKinesisDevice.list_devices()\n",
    "stage1 = Thorlabs.kinesis.KinesisMotor(str(Thorlabs.kinesis.BasicKinesisDevice.list_devices()[0][0])) # polarimeter\n",
    "stage2 = Thorlabs.kinesis.KinesisMotor(str(Thorlabs.kinesis.BasicKinesisDevice.list_devices()[1][0])) # NA\n",
    "stage3 = Thorlabs.kinesis.KinesisMotor(str(Thorlabs.kinesis.BasicKinesisDevice.list_devices()[2][0])) # sample theta\n",
    "stage4 = Thorlabs.kinesis.KinesisMotor(str(Thorlabs.kinesis.BasicKinesisDevice.list_devices()[3][0])) # sample phi"
   ]
  },
  {
   "cell_type": "code",
   "execution_count": 3,
   "metadata": {},
   "outputs": [],
   "source": [
    "# positive numbers means clockwise rotation\n",
    "Unit1 = 1633 # polarimeter corrected, \n",
    "Unit2 = 1923 \n",
    "Unit3 = 1923 # sample theta corrected \n",
    "Unit4 = 1923 # sample phi corrected, speed = 20000, acceleration = 13000, ~15.5 s for 90 degree"
   ]
  },
  {
   "cell_type": "code",
   "execution_count": 4,
   "metadata": {},
   "outputs": [
    {
     "name": "stdout",
     "output_type": "stream",
     "text": [
      "Number of available devices: 1\n",
      "The device's availability: True, model: b'M00766101', manufacturer: b'M00766101', serial number: b'M00766101'\n",
      "Device initialization succeed!\n",
      "The measureMode is set to be: 9\n",
      "The wavelength is set to be: 5.32e-07 m\n"
     ]
    }
   ],
   "source": [
    "# connect to polarimeter\n",
    "resource = b'USB0::0x1313::0x8031::M00766101::INSTR'\n",
    "\n",
    "polarimeter = Polarimeter(resource, 9, 0.000000532) # measureMode:9, wavelength: 532nm\n",
    "polarimeter.connectDevice()"
   ]
  },
  {
   "cell_type": "code",
   "execution_count": 5,
   "metadata": {},
   "outputs": [],
   "source": [
    "# parameter configuration\n",
    "deltaPhi = 90\n",
    "deltaTheta = 45\n",
    "deltaPolarimeter = 160\n",
    "\n",
    "stepTheta = 3\n",
    "stepPola = 2\n",
    "\n",
    "Unit1 = -Unit1 # polarimeter\n",
    "Unit3 = -Unit3 # theta\n",
    "Unit4 = Unit4 # phi"
   ]
  },
  {
   "cell_type": "code",
   "execution_count": 6,
   "metadata": {},
   "outputs": [
    {
     "data": {
      "text/plain": [
       "TVelocityParams(min_velocity=0.0, acceleration=29991.497285664078, max_velocity=12999.996542930603)"
      ]
     },
     "execution_count": 6,
     "metadata": {},
     "output_type": "execute_result"
    }
   ],
   "source": [
    "# set current position as the reference\n",
    "stage1.set_position_reference()\n",
    "stage4.set_position_reference()\n",
    "stage3.set_position_reference()\n",
    "\n",
    "stage4.setup_velocity(min_velocity=0, acceleration=30000, max_velocity=13000)"
   ]
  },
  {
   "cell_type": "code",
   "execution_count": 7,
   "metadata": {},
   "outputs": [],
   "source": [
    "# initialize the measure class\n",
    "ltm = PolarimeterLTM(polarimeter.handler, stage4, deltaPhi*Unit4, 16, 0.05)"
   ]
  },
  {
   "cell_type": "code",
   "execution_count": 8,
   "metadata": {},
   "outputs": [],
   "source": [
    "def main():\n",
    "    angle_pola = 0\n",
    "    angle_theta = 0\n",
    "    pola_input = 'RCW'\n",
    "    os.makedirs(os.path.join(cwd, pola_input), exist_ok=True)\n",
    "    for theta in range(angle_theta, deltaTheta+1, stepTheta):\n",
    "        for pola in range(0, deltaPolarimeter+1, stepPola):\n",
    "            print(\"running for theta {}, pola {}\".format(theta, pola))\n",
    "            ltm.run(os.path.join(cwd,  \"{}/theta{}_pola{}\".format(pola_input, theta, pola)))\n",
    "            if angle_pola + stepPola > deltaPolarimeter:\n",
    "                stage1.move_to(0)\n",
    "                angle_pola = 0\n",
    "            else:\n",
    "                stage1.move_by(Unit1*stepPola)\n",
    "                angle_pola += stepPola \n",
    "            stage1.wait_move()\n",
    "            time.sleep(1) # wait for polarimeter to stablize\n",
    "        if angle_theta + stepTheta > deltaTheta:\n",
    "            stage3.move_to(0)\n",
    "            angle_theta = 0\n",
    "        else:\n",
    "            stage3.move_by(Unit1*stepTheta)\n",
    "            angle_theta += stepTheta\n",
    "        stage3.wait_move()\n",
    "        time.sleep(1) # wait for polarimeter to stablize\n",
    "    polarimeter.closeDevice()"
   ]
  },
  {
   "cell_type": "code",
   "execution_count": null,
   "metadata": {},
   "outputs": [],
   "source": [
    "# run\n",
    "main()"
   ]
  },
  {
   "cell_type": "code",
   "execution_count": 11,
   "metadata": {},
   "outputs": [],
   "source": [
    "polarimeter.closeDevice()"
   ]
  },
  {
   "cell_type": "code",
   "execution_count": 9,
   "metadata": {},
   "outputs": [],
   "source": [
    "stage1.move_by(Unit1*70) # polarimeter"
   ]
  },
  {
   "cell_type": "code",
   "execution_count": 10,
   "metadata": {},
   "outputs": [],
   "source": [
    "stage4.move_by(Unit4*90) # sample phi"
   ]
  },
  {
   "cell_type": "code",
   "execution_count": 16,
   "metadata": {},
   "outputs": [],
   "source": [
    "stage1.move_to(0)\n",
    "stage4.move_to(0)\n",
    "stage3.move_to(0)"
   ]
  },
  {
   "cell_type": "code",
   "execution_count": null,
   "metadata": {},
   "outputs": [],
   "source": []
  }
 ],
 "metadata": {
  "kernelspec": {
   "display_name": "Python 3",
   "language": "python",
   "name": "python3"
  },
  "language_info": {
   "codemirror_mode": {
    "name": "ipython",
    "version": 3
   },
   "file_extension": ".py",
   "mimetype": "text/x-python",
   "name": "python",
   "nbconvert_exporter": "python",
   "pygments_lexer": "ipython3",
   "version": "3.7.7"
  }
 },
 "nbformat": 4,
 "nbformat_minor": 5
}
